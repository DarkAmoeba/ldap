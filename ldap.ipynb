{
 "cells": [
  {
   "cell_type": "markdown",
   "metadata": {},
   "source": [
    "# LDAP\n",
    "\n",
    "Did attempt to integrate flask-ldapconn with CherryPy but it's too integrated and checks the app is running.\n"
   ]
  },
  {
   "cell_type": "code",
   "execution_count": 21,
   "metadata": {},
   "outputs": [],
   "source": [
    "import cherrypy, ssl\n",
    "from ldap3 import Server, Connection, ALL, SAFE_SYNC, SYNC, AUTO_BIND_TLS_BEFORE_BIND, SIMPLE, SUBTREE\n",
    "\n",
    "# Generic\n",
    "\n",
    "ssl_defaults = ssl.get_default_verify_paths()\n",
    "\n",
    "cherrypy.config.setdefault('LDAP_SERVER', 'localhost')\n",
    "cherrypy.config.setdefault('LDAP_PORT', 389)\n",
    "cherrypy.config.setdefault('LDAP_BINDDN', None)\n",
    "cherrypy.config.setdefault('LDAP_SECRET', None)\n",
    "cherrypy.config.setdefault('LDAP_CONNECT_TIMEOUT', 10)\n",
    "cherrypy.config.setdefault('LDAP_READ_ONLY', False)\n",
    "cherrypy.config.setdefault('LDAP_VALID_NAMES', None)\n",
    "cherrypy.config.setdefault('LDAP_PRIVATE_KEY_PASSWORD', None)\n",
    "cherrypy.config.setdefault('LDAP_RAISE_EXCEPTIONS', False)\n",
    "cherrypy.config.setdefault('LDAP_CONNECTION_STRATEGY', SYNC)\n",
    "cherrypy.config.setdefault('LDAP_USE_SSL', False)\n",
    "cherrypy.config.setdefault('LDAP_USE_TLS', True)\n",
    "cherrypy.config.setdefault('LDAP_TLS_VERSION', ssl.PROTOCOL_TLSv1)\n",
    "cherrypy.config.setdefault('LDAP_REQUIRE_CERT', ssl.CERT_REQUIRED)\n",
    "cherrypy.config.setdefault('LDAP_CLIENT_PRIVATE_KEY', None)\n",
    "cherrypy.config.setdefault('LDAP_CLIENT_CERT', None)\n",
    "cherrypy.config.setdefault('LDAP_CA_CERTS_FILE', ssl_defaults.cafile)\n",
    "cherrypy.config.setdefault('LDAP_CA_CERTS_PATH', ssl_defaults.capath)\n",
    "cherrypy.config.setdefault('LDAP_CA_CERTS_DATA', None)\n",
    "cherrypy.config.setdefault('FORCE_ATTRIBUTE_VALUE_AS_LIST', False)\n",
    "\n",
    "\n",
    "\n",
    "# Overrides\n",
    "\n",
    "cherrypy.config.update({\n",
    "'LDAP_SERVER': 'localhost',\n",
    "'LDAP_PORT': 10389,\n",
    "'LDAP_BINDDN': 'cn=admin,dc=planetexpress,dc=com',\n",
    "'LDAP_SECRET': 'GoodNewsEveryone',\n",
    "'LDAP_BASEDN': 'dc=planetexpress,dc=com',\n",
    "'LDAP_SEARCH_ATTR': 'mail',\n",
    "#'LDAP_SEARCH_FILTER': '(mail=%s)' % USER_EMAIL,\n",
    "#'LDAP_QUERY_FILTER': 'email: %s' % USER_EMAIL,\n",
    "'LDAP_TLS_VERSION': ssl.PROTOCOL_TLSv1,\n",
    "'LDAP_REQUIRE_CERT': ssl.CERT_NONE,\n",
    "'LDAP_AUTH_BASEDN': 'ou=people,dc=planetexpress,dc=com',\n",
    "'LDAP_AUTH_ATTR': 'mail',\n",
    "'LDAP_AUTH_SEARCH_FILTER': '(objectClass=inetOrgPerson)'})"
   ]
  },
  {
   "cell_type": "markdown",
   "metadata": {},
   "source": [
    "## Binding directly with ldap"
   ]
  },
  {
   "cell_type": "code",
   "execution_count": 8,
   "metadata": {},
   "outputs": [],
   "source": [
    "from ldap3 import Server, Connection, ALL, SAFE_SYNC, SYNC, AUTO_BIND_TLS_BEFORE_BIND, SIMPLE"
   ]
  },
  {
   "cell_type": "code",
   "execution_count": 9,
   "metadata": {},
   "outputs": [],
   "source": [
    "server = Server(host=cherrypy.config['LDAP_SERVER'],\n",
    "            port=cherrypy.config['LDAP_PORT'],\n",
    "            use_ssl=cherrypy.config['LDAP_USE_SSL'],\n",
    "            connect_timeout=cherrypy.config['LDAP_CONNECT_TIMEOUT'],\n",
    "            get_info=ALL)"
   ]
  },
  {
   "cell_type": "code",
   "execution_count": 10,
   "metadata": {},
   "outputs": [
    {
     "data": {
      "text/plain": [
       "'cn=Hubert J. Farnsworth,ou=people,dc=planetexpress,dc=com'"
      ]
     },
     "execution_count": 10,
     "metadata": {},
     "output_type": "execute_result"
    }
   ],
   "source": [
    "username = 'Hubert J. Farnsworth'\n",
    "password = 'professor'\n",
    "\n",
    "uname = f'cn={username},{cherrypy.config[\"LDAP_AUTH_BASEDN\"]}'\n",
    "uname"
   ]
  },
  {
   "cell_type": "code",
   "execution_count": 11,
   "metadata": {},
   "outputs": [],
   "source": [
    "conn = Connection(server, uname, password, client_strategy=SAFE_SYNC)"
   ]
  },
  {
   "cell_type": "code",
   "execution_count": 12,
   "metadata": {},
   "outputs": [
    {
     "data": {
      "text/plain": [
       "(True,\n",
       " {'result': 0,\n",
       "  'description': 'success',\n",
       "  'dn': '',\n",
       "  'message': '',\n",
       "  'referrals': None,\n",
       "  'saslCreds': None,\n",
       "  'type': 'bindResponse'},\n",
       " None,\n",
       " None)"
      ]
     },
     "execution_count": 12,
     "metadata": {},
     "output_type": "execute_result"
    }
   ],
   "source": [
    "conn.bind()"
   ]
  },
  {
   "cell_type": "code",
   "execution_count": 13,
   "metadata": {},
   "outputs": [
    {
     "data": {
      "text/plain": [
       "(True,\n",
       " {'result': 0,\n",
       "  'description': 'success',\n",
       "  'dn': '',\n",
       "  'message': '',\n",
       "  'referrals': None,\n",
       "  'saslCreds': None,\n",
       "  'type': 'bindResponse'},\n",
       " None,\n",
       " None)"
      ]
     },
     "execution_count": 13,
     "metadata": {},
     "output_type": "execute_result"
    }
   ],
   "source": [
    "status, result, response, _ = conn.bind()\n",
    "status, result, response, _"
   ]
  },
  {
   "cell_type": "code",
   "execution_count": 14,
   "metadata": {},
   "outputs": [
    {
     "data": {
      "text/plain": [
       "(True,\n",
       " {'result': 0,\n",
       "  'description': 'success',\n",
       "  'dn': '',\n",
       "  'message': '',\n",
       "  'referrals': None,\n",
       "  'saslCreds': None,\n",
       "  'type': 'bindResponse'},\n",
       " None,\n",
       " None)"
      ]
     },
     "execution_count": 14,
     "metadata": {},
     "output_type": "execute_result"
    }
   ],
   "source": [
    "conn.unbind()"
   ]
  },
  {
   "cell_type": "code",
   "execution_count": 15,
   "metadata": {},
   "outputs": [],
   "source": [
    "admin_conn = Connection(server, \n",
    "                    cherrypy.config['LDAP_BINDDN'],\n",
    "                    cherrypy.config['LDAP_SECRET'],\n",
    "                    client_strategy=SAFE_SYNC)"
   ]
  },
  {
   "cell_type": "code",
   "execution_count": 16,
   "metadata": {},
   "outputs": [],
   "source": [
    "cherrypy.config.setdefault('LDAP_RAISE_EXCEPTIONS', False)\n",
    "\n",
    "cherrypy.config.setdefault('LDAP_CONNECTION_STRATEGY', SYNC)\n",
    "\n",
    "auto_bind_strategy = AUTO_BIND_TLS_BEFORE_BIND\n",
    "authentication_policy = SIMPLE\n",
    "if cherrypy.config['LDAP_USE_TLS'] is not True:\n",
    "    auto_bind_strategy = AUTO_BIND_NO_TLS\n",
    "\n",
    "ldap_conn = Connection(\n",
    "    server,\n",
    "    auto_bind=auto_bind_strategy,\n",
    "    client_strategy=cherrypy.config['LDAP_CONNECTION_STRATEGY'],\n",
    "    raise_exceptions=cherrypy.config['LDAP_RAISE_EXCEPTIONS'],\n",
    "    authentication=authentication_policy,\n",
    "    user=cherrypy.config['LDAP_BINDDN'],\n",
    "    password=cherrypy.config['LDAP_SECRET'],\n",
    "    check_names=True,\n",
    "    read_only=cherrypy.config['LDAP_READ_ONLY'],\n",
    ")"
   ]
  },
  {
   "cell_type": "code",
   "execution_count": 17,
   "metadata": {},
   "outputs": [
    {
     "data": {
      "text/plain": [
       "True"
      ]
     },
     "execution_count": 17,
     "metadata": {},
     "output_type": "execute_result"
    }
   ],
   "source": [
    "ldap_conn.bind()"
   ]
  },
  {
   "cell_type": "code",
   "execution_count": 18,
   "metadata": {},
   "outputs": [
    {
     "data": {
      "text/plain": [
       "False"
      ]
     },
     "execution_count": 18,
     "metadata": {},
     "output_type": "execute_result"
    }
   ],
   "source": [
    "ldap_conn.search('mail=fry@planetexpress.com', cherrypy.config['LDAP_AUTH_SEARCH_FILTER'])  # usually you don't need the original request (4th element of the returned tuple)"
   ]
  },
  {
   "cell_type": "code",
   "execution_count": 22,
   "metadata": {},
   "outputs": [
    {
     "data": {
      "text/plain": [
       "True"
      ]
     },
     "execution_count": 22,
     "metadata": {},
     "output_type": "execute_result"
    }
   ],
   "source": [
    "search_filter = '(mail=fry@planetexpress.com)'\n",
    "attr = cherrypy.config['LDAP_SEARCH_ATTR']\n",
    "ldap_conn.search(cherrypy.config['LDAP_BASEDN'],\n",
    "                 search_filter,\n",
    "                 SUBTREE, \n",
    "                 attributes=[attr])"
   ]
  },
  {
   "cell_type": "code",
   "execution_count": 23,
   "metadata": {},
   "outputs": [],
   "source": [
    "result = ldap_conn.result\n",
    "response = ldap_conn.response"
   ]
  },
  {
   "cell_type": "code",
   "execution_count": 24,
   "metadata": {},
   "outputs": [
    {
     "data": {
      "text/plain": [
       "{'result': 0,\n",
       " 'description': 'success',\n",
       " 'dn': '',\n",
       " 'message': '',\n",
       " 'referrals': None,\n",
       " 'type': 'searchResDone'}"
      ]
     },
     "execution_count": 24,
     "metadata": {},
     "output_type": "execute_result"
    }
   ],
   "source": [
    "result"
   ]
  },
  {
   "cell_type": "code",
   "execution_count": 25,
   "metadata": {},
   "outputs": [
    {
     "data": {
      "text/plain": [
       "[{'raw_dn': b'cn=Philip J. Fry,ou=people,dc=planetexpress,dc=com',\n",
       "  'dn': 'cn=Philip J. Fry,ou=people,dc=planetexpress,dc=com',\n",
       "  'raw_attributes': {'mail': [b'fry@planetexpress.com']},\n",
       "  'attributes': {'mail': ['fry@planetexpress.com']},\n",
       "  'type': 'searchResEntry'}]"
      ]
     },
     "execution_count": 25,
     "metadata": {},
     "output_type": "execute_result"
    }
   ],
   "source": [
    "response"
   ]
  },
  {
   "cell_type": "markdown",
   "metadata": {},
   "source": [
    "# Phase 2 - LDAPS"
   ]
  },
  {
   "cell_type": "code",
   "execution_count": 26,
   "metadata": {},
   "outputs": [],
   "source": [
    "import cherrypy, ssl\n",
    "from ldap3 import Server, Connection, ALL, SAFE_SYNC, SYNC, AUTO_BIND_TLS_BEFORE_BIND, SIMPLE\n",
    "\n",
    "# Generic\n",
    "\n",
    "ssl_defaults = ssl.get_default_verify_paths()\n",
    "\n",
    "cherrypy.config.setdefault('LDAP_SERVER', 'localhost')\n",
    "cherrypy.config.setdefault('LDAP_PORT', 389)\n",
    "cherrypy.config.setdefault('LDAP_BINDDN', None)\n",
    "cherrypy.config.setdefault('LDAP_SECRET', None)\n",
    "cherrypy.config.setdefault('LDAP_CONNECT_TIMEOUT', 10)\n",
    "cherrypy.config.setdefault('LDAP_READ_ONLY', False)\n",
    "cherrypy.config.setdefault('LDAP_VALID_NAMES', None)\n",
    "cherrypy.config.setdefault('LDAP_PRIVATE_KEY_PASSWORD', None)\n",
    "cherrypy.config.setdefault('LDAP_RAISE_EXCEPTIONS', False)\n",
    "cherrypy.config.setdefault('LDAP_CONNECTION_STRATEGY', SYNC)\n",
    "cherrypy.config.setdefault('LDAP_USE_SSL', False)\n",
    "cherrypy.config.setdefault('LDAP_USE_TLS', True)\n",
    "cherrypy.config.setdefault('LDAP_TLS_VERSION', ssl.PROTOCOL_TLSv1)\n",
    "cherrypy.config.setdefault('LDAP_REQUIRE_CERT', ssl.CERT_REQUIRED)\n",
    "cherrypy.config.setdefault('LDAP_CLIENT_PRIVATE_KEY', None)\n",
    "cherrypy.config.setdefault('LDAP_CLIENT_CERT', None)\n",
    "cherrypy.config.setdefault('LDAP_CA_CERTS_FILE', ssl_defaults.cafile)\n",
    "cherrypy.config.setdefault('LDAP_CA_CERTS_PATH', ssl_defaults.capath)\n",
    "cherrypy.config.setdefault('LDAP_CA_CERTS_DATA', None)\n",
    "cherrypy.config.setdefault('FORCE_ATTRIBUTE_VALUE_AS_LIST', False)\n",
    "\n",
    "\n",
    "\n",
    "# Overrides\n",
    "\n",
    "cherrypy.config.update({\n",
    "'LDAP_SERVER': 'localhost',\n",
    "'LDAP_PORT': 10636,\n",
    "'LDAP_BINDDN': 'cn=admin,dc=planetexpress,dc=com',\n",
    "'LDAP_SECRET': 'GoodNewsEveryone',\n",
    "'LDAP_BASEDN': 'dc=planetexpress,dc=com',\n",
    "'LDAP_SEARCH_ATTR': 'mail',\n",
    "'LDAP_TLS_VERSION': ssl.PROTOCOL_TLSv1_2,\n",
    "'LDAP_REQUIRE_CERT': ssl.CERT_NONE,\n",
    "'LDAP_AUTH_BASEDN': 'ou=people,dc=planetexpress,dc=com',\n",
    "'LDAP_AUTH_ATTR': 'mail',\n",
    "'LDAP_USE_SSL': True,\n",
    "'LDAP_AUTH_SEARCH_FILTER': '(objectClass=inetOrgPerson)'})"
   ]
  },
  {
   "cell_type": "code",
   "execution_count": 27,
   "metadata": {},
   "outputs": [],
   "source": [
    "ldaps_server = Server(host=cherrypy.config['LDAP_SERVER'],\n",
    "            port=cherrypy.config['LDAP_PORT'],\n",
    "            use_ssl=cherrypy.config['LDAP_USE_SSL'],\n",
    "            connect_timeout=cherrypy.config['LDAP_CONNECT_TIMEOUT'],\n",
    "            get_info=ALL)"
   ]
  },
  {
   "cell_type": "code",
   "execution_count": 28,
   "metadata": {},
   "outputs": [
    {
     "data": {
      "text/plain": [
       "'cn=Hubert J. Farnsworth,ou=people,dc=planetexpress,dc=com'"
      ]
     },
     "execution_count": 28,
     "metadata": {},
     "output_type": "execute_result"
    }
   ],
   "source": [
    "username = 'Hubert J. Farnsworth'\n",
    "password = 'professor'\n",
    "\n",
    "uname = f'cn={username},{cherrypy.config[\"LDAP_AUTH_BASEDN\"]}'\n",
    "uname"
   ]
  },
  {
   "cell_type": "code",
   "execution_count": 29,
   "metadata": {},
   "outputs": [
    {
     "data": {
      "text/plain": [
       "Server(host='localhost', port=10636, use_ssl=True, allowed_referral_hosts=[('*', True)], tls=Tls(validate=<VerifyMode.CERT_NONE: 0>), get_info='ALL', connect_timeout=10, mode='IP_V6_PREFERRED')"
      ]
     },
     "execution_count": 29,
     "metadata": {},
     "output_type": "execute_result"
    }
   ],
   "source": [
    "ldaps_server"
   ]
  },
  {
   "cell_type": "code",
   "execution_count": 30,
   "metadata": {},
   "outputs": [],
   "source": [
    "\n",
    "conn = Connection(ldaps_server, uname, password, client_strategy=SAFE_SYNC)"
   ]
  },
  {
   "cell_type": "code",
   "execution_count": 31,
   "metadata": {},
   "outputs": [
    {
     "data": {
      "text/plain": [
       "(True,\n",
       " {'result': 0,\n",
       "  'description': 'success',\n",
       "  'dn': '',\n",
       "  'message': '',\n",
       "  'referrals': None,\n",
       "  'saslCreds': None,\n",
       "  'type': 'bindResponse'},\n",
       " None,\n",
       " None)"
      ]
     },
     "execution_count": 31,
     "metadata": {},
     "output_type": "execute_result"
    }
   ],
   "source": [
    "conn.bind()"
   ]
  },
  {
   "cell_type": "code",
   "execution_count": 32,
   "metadata": {},
   "outputs": [
    {
     "data": {
      "text/plain": [
       "(True,\n",
       " {'result': 0,\n",
       "  'description': 'success',\n",
       "  'dn': '',\n",
       "  'message': '',\n",
       "  'referrals': None,\n",
       "  'saslCreds': None,\n",
       "  'type': 'bindResponse'},\n",
       " None,\n",
       " None)"
      ]
     },
     "execution_count": 32,
     "metadata": {},
     "output_type": "execute_result"
    }
   ],
   "source": [
    "conn.unbind()"
   ]
  }
 ],
 "metadata": {
  "kernelspec": {
   "display_name": "Python 3",
   "language": "python",
   "name": "python3"
  },
  "language_info": {
   "codemirror_mode": {
    "name": "ipython",
    "version": 3
   },
   "file_extension": ".py",
   "mimetype": "text/x-python",
   "name": "python",
   "nbconvert_exporter": "python",
   "pygments_lexer": "ipython3",
   "version": "3.8.3"
  }
 },
 "nbformat": 4,
 "nbformat_minor": 4
}
